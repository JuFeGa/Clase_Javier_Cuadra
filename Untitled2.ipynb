{
  "nbformat": 4,
  "nbformat_minor": 0,
  "metadata": {
    "colab": {
      "name": "Untitled2.ipynb",
      "provenance": [],
      "collapsed_sections": [],
      "include_colab_link": true
    },
    "kernelspec": {
      "name": "python3",
      "display_name": "Python 3"
    },
    "language_info": {
      "name": "python"
    }
  },
  "cells": [
    {
      "cell_type": "markdown",
      "metadata": {
        "id": "view-in-github",
        "colab_type": "text"
      },
      "source": [
        "<a href=\"https://colab.research.google.com/github/JuFeGa/Prueba2/blob/main/Untitled2.ipynb\" target=\"_parent\"><img src=\"https://colab.research.google.com/assets/colab-badge.svg\" alt=\"Open In Colab\"/></a>"
      ]
    },
    {
      "cell_type": "code",
      "metadata": {
        "id": "0shFwEI3Z2uu"
      },
      "source": [
        "class Batmobile:\n",
        "  def __init__(self, rocket_ammo):\n",
        "    self.rocket_ammo = rocket_ammo\n",
        "\n",
        "  def shoot_rocket(self):\n",
        "    if len(self.rocket_ammo) > 0:\n",
        "      rocket = self.rocket_ammo.pop(-1)\n",
        "      rocket.shoot()\n",
        "    else:\n",
        "      print(\"Out of ammo\")\n",
        "\n",
        "class Rocket:\n",
        "  def __init__(self, power):\n",
        "    self.power = power\n",
        "\n",
        "  def shoot(self):\n",
        "    print(f\"A rocket with power {self.power} has been shoot\")"
      ],
      "execution_count": null,
      "outputs": []
    },
    {
      "cell_type": "code",
      "metadata": {
        "id": "noGbTTXSaOyo"
      },
      "source": [
        "rocket_1 = Rocket(20)\n",
        "rocket_2 = Rocket(30)\n",
        "rocket_ammo = [rocket_1, rocket_2]\n",
        "bm = Batmobile(rocket_ammo)"
      ],
      "execution_count": null,
      "outputs": []
    },
    {
      "cell_type": "code",
      "metadata": {
        "colab": {
          "base_uri": "https://localhost:8080/"
        },
        "id": "6ThonWS1cA3I",
        "outputId": "f9206e3a-fe76-4474-8423-d9d90c848f0d"
      },
      "source": [
        "bm.rocket_ammo"
      ],
      "execution_count": null,
      "outputs": [
        {
          "output_type": "execute_result",
          "data": {
            "text/plain": [
              "[]"
            ]
          },
          "metadata": {},
          "execution_count": 16
        }
      ]
    }
  ]
}