{
 "cells": [
  {
   "cell_type": "markdown",
   "id": "db266260-bdbf-42e6-b36f-a552c21613ec",
   "metadata": {},
   "source": [
    "# Ejercicio Batmóvil\n",
    "\n",
    "### Equipo 11\n",
    "\n",
    "Héctor Jordà López\n",
    "\n",
    "Belén Santamaría Balfagón\n",
    "\n",
    "Maria Julia Ferrando Garcia"
   ]
  },
  {
   "cell_type": "code",
   "execution_count": 1,
   "id": "6dc2d02e-dde8-4866-8872-9799cbcb2cfc",
   "metadata": {},
   "outputs": [],
   "source": [
    "class Batmobile:\n",
    "    \"\"\"\n",
    "    Clase para crear Batmóvil\n",
    "    \"\"\"\n",
    "    def __init__(self, pilot, batrockets, pem, gas):\n",
    "        \"\"\"\n",
    "        Método init de la clase\n",
    "        \n",
    "        Args:\n",
    "            pilot (str): Piloto del Batmóvil. Puede tomar los valores Batman o Robin\n",
    "            batrockets (int): Cantidad de batrockets que contiene\n",
    "            pem (int): Cantidad de PEM que contiene\n",
    "            gas (float): Litros restantes de combustible que quedan\n",
    "        \"\"\"\n",
    "        if pilot in ['Batman', 'Robin']:\n",
    "            self.pilot = pilot\n",
    "        else:\n",
    "            raise Exception('El piloto debe ser Batman o Robin')\n",
    "        if isinstance(batrockets, int):\n",
    "            self.batrockets = batrockets\n",
    "        else:\n",
    "            raise Exception('La cantidad de batrockets debe ser un valor entero')\n",
    "        if isinstance(pem, int):\n",
    "            self.pem = pem\n",
    "        else:\n",
    "            raise Exception('La cantidad de pem debe ser un valor entero')\n",
    "        if isinstance(gas, float) or isinstance(gas, int):\n",
    "            self.gas = gas\n",
    "        else:\n",
    "            raise Exception('Los litros de combustible debe ser un valor numérico')\n",
    "            \n",
    "    def accelerate(self, distance):\n",
    "        \"\"\"\n",
    "        Método que permite acelerar y recorrer cierta distancia\n",
    "        \n",
    "        Al acelerar el batmóvil consume 1.5 litros de combustible por metro recorrido. \n",
    "        Por lo tanto si no hay suficiente combustible para recorrer la distancia deseada saltará un error.\n",
    "        \n",
    "        Args:\n",
    "            distance (float): Cantidad de metros a recorrer acelerando\n",
    "        \"\"\"        \n",
    "        if 1.5*distance > self.gas:\n",
    "            raise Exception(f'No hay suficiente combustible para recorrer {distance} metros')\n",
    "        else:\n",
    "            self.gas = self.gas - 1.5*distance\n",
    "            print(f'Hemos recorrido {distance} metros. Ahora quedan {self.gas} litros de combustible')\n",
    "            \n",
    "    def activate_turbo(self, distance):\n",
    "        \"\"\"\n",
    "        Método que permite poner el turbo y recorrer cierta distancia\n",
    "        \n",
    "        Al poner el turbo el batmóvil consume 3 litros de combustible por metro recorrido. \n",
    "        Por lo tanto si no hay suficiente combustible para recorrer la distancia deseada saltará un error.\n",
    "        \n",
    "        Args:\n",
    "            distance (float): Cantidad de metros a recorrer con el turbo\n",
    "        \"\"\"        \n",
    "        if 3*distance > self.gas:\n",
    "            raise Exception(f'No hay suficiente combustible para recorrer {distance} metros')\n",
    "        else:\n",
    "            self.gas = self.gas - 3*distance\n",
    "            print(f'Hemos recorrido {distance} metros. Ahora quedan {self.gas} litros de combustible')\n",
    "            \n",
    "    def launch_a_rocket(self, objetivo):\n",
    "        \"\"\"\n",
    "        Método que permite lanzar un cohete\n",
    "        \n",
    "        Antes de lanzarlo comprobamos si nos queda algún cohete.\n",
    "        En caso afirmativo lo lanzamos y ajustamos la cantidad de cohetes restantes.\n",
    "        \"\"\"        \n",
    "        if self.batrockets == 0:\n",
    "            raise Exception(f'No queda ningún cohete')\n",
    "        elif not(isinstance(objetivo, (Joker, Joker_Villain))):\n",
    "            raise Exception(f'El cohete debe dirigirse al Joker o a un villano')\n",
    "        else:\n",
    "            self.batrockets -= 1\n",
    "            objetivo.KO = True\n",
    "            print(f'Acabamos de lanzar un cohete, ahora quedan {self.batrockets}')\n",
    "            \n",
    "    def launch_a_pem(self, objetivo):\n",
    "        \"\"\"\n",
    "        Método que permite lanzar un PEM\n",
    "        \n",
    "        Antes de lanzarlo comprobamos si nos queda algún PEM.\n",
    "        En caso afirmativo lo lanzamos y ajustamos la cantidad restante.\n",
    "        \"\"\"        \n",
    "        if self.pem == 0:\n",
    "            raise Exception(f'No queda ningún PEM')\n",
    "        elif not(isinstance(objetivo, (Joker, Joker_Villain))):\n",
    "            raise Exception(f'El PEM debe dirigirse al Joker o a un villano')    \n",
    "        else:\n",
    "            self.pem -= 1\n",
    "            objetivo.Weapon = False\n",
    "            print(f'Acabamos de lanzar un PEM, ahora quedan {self.pem}')"
   ]
  },
  {
   "cell_type": "code",
   "execution_count": 2,
   "id": "d5257468-483b-4bb8-bba0-a0b36e80415d",
   "metadata": {},
   "outputs": [],
   "source": [
    "class Joker:\n",
    "    \"\"\"\n",
    "    Clase para crear al Joker\n",
    "    \"\"\"\n",
    "    def __init__(self, KO = False, Weapon = True):\n",
    "        \"\"\"\n",
    "        Método init de la clase\n",
    "        \n",
    "        Args:\n",
    "            KO (bool): Knock Out. Se vuelve True cuando el Joker recibe un cohete\n",
    "            Weapon (bool): Arma. Se vuelve False si el Joker recibe un PEM\n",
    "        \"\"\"\n",
    "        self.KO = KO\n",
    "        self.Weapon = Weapon\n",
    "        \n",
    "class Joker_Villain:\n",
    "    \"\"\"\n",
    "    Clase para crear un villano del Joker\n",
    "    \"\"\"\n",
    "    def __init__(self, KO = False, Weapon = True):\n",
    "        \"\"\"\n",
    "        Método init de la clase\n",
    "        \n",
    "        Args:\n",
    "            KO (bool): Knock Out. Se vuelve True cuando el villano recibe un cohete\n",
    "            Weapon (bool): Arma. Se vuelve False si el villano recibe un PEM\n",
    "        \"\"\"        \n",
    "        self.KO = KO\n",
    "        self.Weapon = Weapon"
   ]
  },
  {
   "cell_type": "code",
   "execution_count": 3,
   "id": "2b91a258-d034-4a10-a1ef-d2da7db33233",
   "metadata": {},
   "outputs": [],
   "source": [
    "batmobile1 = Batmobile(pilot='Batman', batrockets=3, pem=5, gas=58)\n",
    "Joker_1 = Joker()\n",
    "Villano_1 = Joker_Villain()\n",
    "Villano_2 = Joker_Villain()\n"
   ]
  },
  {
   "cell_type": "code",
   "execution_count": 4,
   "id": "1d56b8db",
   "metadata": {},
   "outputs": [
    {
     "name": "stdout",
     "output_type": "stream",
     "text": [
      "False\n",
      "True\n"
     ]
    }
   ],
   "source": [
    "print(Joker_1.KO)\n",
    "print(Joker_1.Weapon)"
   ]
  },
  {
   "cell_type": "code",
   "execution_count": 5,
   "id": "adcd6efd",
   "metadata": {},
   "outputs": [
    {
     "name": "stdout",
     "output_type": "stream",
     "text": [
      "False\n",
      "True\n"
     ]
    }
   ],
   "source": [
    "print(Villano_1.KO)\n",
    "print(Villano_1.Weapon)"
   ]
  },
  {
   "cell_type": "code",
   "execution_count": 6,
   "id": "7f79228f",
   "metadata": {},
   "outputs": [
    {
     "name": "stdout",
     "output_type": "stream",
     "text": [
      "Acabamos de lanzar un cohete, ahora quedan 2\n",
      "Acabamos de lanzar un PEM, ahora quedan 4\n"
     ]
    }
   ],
   "source": [
    "batmobile1.launch_a_rocket(Joker_1)\n",
    "batmobile1.launch_a_pem(Villano_1)"
   ]
  },
  {
   "cell_type": "code",
   "execution_count": 7,
   "id": "9573d10e",
   "metadata": {},
   "outputs": [
    {
     "name": "stdout",
     "output_type": "stream",
     "text": [
      "True\n",
      "True\n"
     ]
    }
   ],
   "source": [
    "print(Joker_1.KO)\n",
    "print(Joker_1.Weapon)"
   ]
  },
  {
   "cell_type": "code",
   "execution_count": 8,
   "id": "769097cb",
   "metadata": {},
   "outputs": [
    {
     "name": "stdout",
     "output_type": "stream",
     "text": [
      "False\n",
      "False\n"
     ]
    }
   ],
   "source": [
    "print(Villano_1.KO)\n",
    "print(Villano_1.Weapon)"
   ]
  },
  {
   "cell_type": "code",
   "execution_count": 23,
   "id": "a98e5780",
   "metadata": {},
   "outputs": [],
   "source": [
    "class batrockets:\n",
    "    \"\"\"\n",
    "    Clase para crear batrockets\n",
    "    \"\"\"\n",
    "    def __init__(self, batrockets=int):\n",
    "        \"\"\"\n",
    "        Método init de la clase\n",
    "        \n",
    "        Args:\n",
    "            batrocket (int): se debe ir descontando cuando se lanza uno.\n",
    "        \"\"\"  \n",
    "        \n",
    "        self.batrockets = batrockets\n",
    "\n",
    "class pem:\n",
    "    \"\"\"\n",
    "    Clase para crear batrockets\n",
    "    \"\"\"\n",
    "    def __init__(self, pem=int):\n",
    "        \"\"\"\n",
    "        Método init de la clase\n",
    "        \n",
    "        Args:\n",
    "            pem (int): se debe ir descontando cuando se lanza uno.\n",
    "        \"\"\"  \n",
    "        \n",
    "        self.pem = pem\n"
   ]
  },
  {
   "cell_type": "code",
   "execution_count": 31,
   "id": "c1894692",
   "metadata": {},
   "outputs": [
    {
     "name": "stdout",
     "output_type": "stream",
     "text": [
      "En el batmobile hay una municions de  <__main__.batrockets object at 0x000002CBEA94F100> batrockets y  <__main__.pem object at 0x000002CBEA94F8E0> pem\n"
     ]
    }
   ],
   "source": [
    "batrocket_batmobile1 = batrockets()\n",
    "pem_batmobile1 =pem()\n",
    "ammunition_bat1 =[batrocket_batmobile1,pem_batmobile1]\n",
    "print(f'En el batmobile hay una municions de  {batrocket_batmobile1} batrockets y  {pem_batmobile1} pem')"
   ]
  },
  {
   "cell_type": "code",
   "execution_count": 33,
   "id": "eb8f97ef",
   "metadata": {},
   "outputs": [
    {
     "name": "stdout",
     "output_type": "stream",
     "text": [
      "<__main__.pem object at 0x000002CBEA94F8E0>\n"
     ]
    }
   ],
   "source": []
  }
 ],
 "metadata": {
  "kernelspec": {
   "display_name": "Python 3",
   "language": "python",
   "name": "python3"
  },
  "language_info": {
   "codemirror_mode": {
    "name": "ipython",
    "version": 3
   },
   "file_extension": ".py",
   "mimetype": "text/x-python",
   "name": "python",
   "nbconvert_exporter": "python",
   "pygments_lexer": "ipython3",
   "version": "3.8.8"
  }
 },
 "nbformat": 4,
 "nbformat_minor": 5
}
